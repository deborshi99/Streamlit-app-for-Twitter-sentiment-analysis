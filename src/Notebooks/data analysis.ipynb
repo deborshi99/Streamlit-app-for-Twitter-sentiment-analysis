{
 "cells": [
  {
   "cell_type": "code",
   "execution_count": 1,
   "metadata": {},
   "outputs": [],
   "source": [
    "import os \n",
    "\n",
    "import string\n",
    "import re\n",
    "\n",
    "import numpy as np\n",
    "import pandas as pd\n",
    "import matplotlib.pyplot as plt\n",
    "import seaborn as sns\n",
    "\n",
    "import warnings\n",
    "import sys\n",
    "\n",
    "import nltk\n",
    "from nltk.corpus import stopwords\n",
    "from nltk.tokenize import word_tokenize \n",
    "warnings.filterwarnings('ignore')\n",
    "\n",
    "sns.set_style('darkgrid')"
   ]
  },
  {
   "cell_type": "code",
   "execution_count": 2,
   "metadata": {},
   "outputs": [],
   "source": [
    "# nltk.download('all')"
   ]
  },
  {
   "cell_type": "markdown",
   "metadata": {},
   "source": [
    "# Initialise the constants"
   ]
  },
  {
   "cell_type": "code",
   "execution_count": 3,
   "metadata": {},
   "outputs": [
    {
     "name": "stdout",
     "output_type": "stream",
     "text": [
      "{'been', 'we', \"you'll\", 'if', 'will', 'shan', 'through', 'after', 'mightn', 'off', 'each', 'wouldn', 'about', 'against', 'mustn', 'was', \"you're\", 'once', 'yourselves', 'are', 'between', 'do', \"aren't\", 'they', 'be', 'all', 'weren', 'wasn', 'with', 'into', 'where', 'because', 'these', 'theirs', 'himself', 'that', 's', \"couldn't\", 'haven', 'did', 'and', \"she's\", 'him', \"shan't\", 'those', 'nor', \"you've\", 'ain', 'yourself', 'herself', 'few', \"don't\", 'only', \"hasn't\", 'shouldn', 'couldn', 'it', 'hasn', 'why', 'won', 'his', 'can', 'here', 'below', 'or', 'the', 'o', 'further', 'is', 'he', \"you'd\", \"mightn't\", 'there', 'she', 'were', 'a', 'them', 'having', \"it's\", 'does', 'll', 'by', 'while', 'as', 'its', 'being', 'until', 'not', 'themselves', 'before', 'from', 'most', 'in', 'aren', 'me', \"didn't\", 'of', 'hadn', 'm', 'but', 'don', 'has', 'same', 'some', 'on', 'd', 'this', 've', 'again', 'their', 'my', 'just', 'ours', 'to', 'too', 'who', \"haven't\", 'any', 'am', 'no', 're', 'itself', 'isn', \"doesn't\", 'other', 'down', 'so', 'out', 'what', 'own', \"needn't\", 'had', 'under', 'ma', 'you', 'very', \"wasn't\", 'doesn', 'above', 'didn', 'than', \"hadn't\", 'when', 'such', 'i', 'now', 'myself', 'over', 'both', 'have', 'then', 'y', \"mustn't\", 'needn', 'at', 'our', 'your', 'yours', 'which', 'for', 'up', \"isn't\", 'how', 'more', 'doing', 'an', 'hers', 'ourselves', \"that'll\", \"won't\", \"wouldn't\", 't', \"shouldn't\", \"weren't\", 'her', 'whom', 'during', \"should've\", 'should'}\n"
     ]
    }
   ],
   "source": [
    "SRC_TRAIN_CSV_FILE_PATH = '../data/source/twitter_training.csv'\n",
    "SRC_TEST_CSV_FILE_PATH = '../data/source/twitter_validation.csv'\n",
    "\n",
    "HEADERS = ['Tweet ID', 'entity', 'sentiment', 'Tweet content']\n",
    "SENTIMENT_ENCODE = {\n",
    "    'Positive': 0,\n",
    "    'Neutral': 1,\n",
    "    'Negative': 2,\n",
    "    'Irrelevant': 3\n",
    "}\n",
    "\n",
    "STOPWORDS = set(stopwords.words('english'))\n",
    "PUNCTUATIONS = list(string.punctuation)\n",
    "\n",
    "print(STOPWORDS)"
   ]
  },
  {
   "cell_type": "markdown",
   "metadata": {},
   "source": [
    "# Reading the file"
   ]
  },
  {
   "cell_type": "code",
   "execution_count": 4,
   "metadata": {},
   "outputs": [
    {
     "data": {
      "text/plain": [
       "(74682, 4)"
      ]
     },
     "execution_count": 4,
     "metadata": {},
     "output_type": "execute_result"
    }
   ],
   "source": [
    "df = pd.read_csv(SRC_TRAIN_CSV_FILE_PATH, names=HEADERS)\n",
    "df.shape"
   ]
  },
  {
   "cell_type": "code",
   "execution_count": 5,
   "metadata": {},
   "outputs": [
    {
     "data": {
      "text/html": [
       "<div>\n",
       "<style scoped>\n",
       "    .dataframe tbody tr th:only-of-type {\n",
       "        vertical-align: middle;\n",
       "    }\n",
       "\n",
       "    .dataframe tbody tr th {\n",
       "        vertical-align: top;\n",
       "    }\n",
       "\n",
       "    .dataframe thead th {\n",
       "        text-align: right;\n",
       "    }\n",
       "</style>\n",
       "<table border=\"1\" class=\"dataframe\">\n",
       "  <thead>\n",
       "    <tr style=\"text-align: right;\">\n",
       "      <th></th>\n",
       "      <th>Tweet ID</th>\n",
       "      <th>entity</th>\n",
       "      <th>sentiment</th>\n",
       "      <th>Tweet content</th>\n",
       "    </tr>\n",
       "  </thead>\n",
       "  <tbody>\n",
       "    <tr>\n",
       "      <th>0</th>\n",
       "      <td>2401</td>\n",
       "      <td>Borderlands</td>\n",
       "      <td>Positive</td>\n",
       "      <td>im getting on borderlands and i will murder yo...</td>\n",
       "    </tr>\n",
       "    <tr>\n",
       "      <th>1</th>\n",
       "      <td>2401</td>\n",
       "      <td>Borderlands</td>\n",
       "      <td>Positive</td>\n",
       "      <td>I am coming to the borders and I will kill you...</td>\n",
       "    </tr>\n",
       "    <tr>\n",
       "      <th>2</th>\n",
       "      <td>2401</td>\n",
       "      <td>Borderlands</td>\n",
       "      <td>Positive</td>\n",
       "      <td>im getting on borderlands and i will kill you ...</td>\n",
       "    </tr>\n",
       "    <tr>\n",
       "      <th>3</th>\n",
       "      <td>2401</td>\n",
       "      <td>Borderlands</td>\n",
       "      <td>Positive</td>\n",
       "      <td>im coming on borderlands and i will murder you...</td>\n",
       "    </tr>\n",
       "    <tr>\n",
       "      <th>4</th>\n",
       "      <td>2401</td>\n",
       "      <td>Borderlands</td>\n",
       "      <td>Positive</td>\n",
       "      <td>im getting on borderlands 2 and i will murder ...</td>\n",
       "    </tr>\n",
       "  </tbody>\n",
       "</table>\n",
       "</div>"
      ],
      "text/plain": [
       "   Tweet ID       entity sentiment  \\\n",
       "0      2401  Borderlands  Positive   \n",
       "1      2401  Borderlands  Positive   \n",
       "2      2401  Borderlands  Positive   \n",
       "3      2401  Borderlands  Positive   \n",
       "4      2401  Borderlands  Positive   \n",
       "\n",
       "                                       Tweet content  \n",
       "0  im getting on borderlands and i will murder yo...  \n",
       "1  I am coming to the borders and I will kill you...  \n",
       "2  im getting on borderlands and i will kill you ...  \n",
       "3  im coming on borderlands and i will murder you...  \n",
       "4  im getting on borderlands 2 and i will murder ...  "
      ]
     },
     "execution_count": 5,
     "metadata": {},
     "output_type": "execute_result"
    }
   ],
   "source": [
    "df.head()"
   ]
  },
  {
   "cell_type": "markdown",
   "metadata": {},
   "source": [
    "## Getting the structure of data and further analysing\n",
    "\n",
    "1. df.info() -> to get datatypes of each column.\n",
    "2. Getting the unique values of ```sentiment``` columns, and create the mapping variable descibe in the next step.\n",
    "3. changing the sentiment to integer values, please refer ```SENTIMENT_ENCODE``` variable.\n",
    "4. Getting the count for each ```sentiment``` in the first visualization ```fig-1: label count plot```"
   ]
  },
  {
   "cell_type": "code",
   "execution_count": 6,
   "metadata": {},
   "outputs": [
    {
     "name": "stdout",
     "output_type": "stream",
     "text": [
      "<class 'pandas.core.frame.DataFrame'>\n",
      "RangeIndex: 74682 entries, 0 to 74681\n",
      "Data columns (total 4 columns):\n",
      " #   Column         Non-Null Count  Dtype \n",
      "---  ------         --------------  ----- \n",
      " 0   Tweet ID       74682 non-null  int64 \n",
      " 1   entity         74682 non-null  object\n",
      " 2   sentiment      74682 non-null  object\n",
      " 3   Tweet content  73996 non-null  object\n",
      "dtypes: int64(1), object(3)\n",
      "memory usage: 2.3+ MB\n"
     ]
    }
   ],
   "source": [
    "df.info()"
   ]
  },
  {
   "cell_type": "code",
   "execution_count": 7,
   "metadata": {},
   "outputs": [
    {
     "name": "stdout",
     "output_type": "stream",
     "text": [
      "total number of duplicate records: 2700\n"
     ]
    }
   ],
   "source": [
    "## Dropping the duplicates\n",
    "print(f'total number of duplicate records: {len(df)-len(df.drop_duplicates())}')\n",
    "df = df.drop_duplicates()"
   ]
  },
  {
   "cell_type": "code",
   "execution_count": 8,
   "metadata": {},
   "outputs": [
    {
     "name": "stdout",
     "output_type": "stream",
     "text": [
      "Positive\n",
      "Neutral\n",
      "Negative\n",
      "Irrelevant\n"
     ]
    }
   ],
   "source": [
    "## Getting the unique values for sentiment\n",
    "for i in list(df['sentiment'].unique()):\n",
    "    print(i)    "
   ]
  },
  {
   "cell_type": "code",
   "execution_count": 9,
   "metadata": {},
   "outputs": [],
   "source": [
    "## converting the columns to integers\n",
    "df['sentiment'] = df['sentiment'].map(SENTIMENT_ENCODE)"
   ]
  },
  {
   "cell_type": "code",
   "execution_count": 10,
   "metadata": {},
   "outputs": [
    {
     "data": {
      "text/html": [
       "<div>\n",
       "<style scoped>\n",
       "    .dataframe tbody tr th:only-of-type {\n",
       "        vertical-align: middle;\n",
       "    }\n",
       "\n",
       "    .dataframe tbody tr th {\n",
       "        vertical-align: top;\n",
       "    }\n",
       "\n",
       "    .dataframe thead th {\n",
       "        text-align: right;\n",
       "    }\n",
       "</style>\n",
       "<table border=\"1\" class=\"dataframe\">\n",
       "  <thead>\n",
       "    <tr style=\"text-align: right;\">\n",
       "      <th></th>\n",
       "      <th>Tweet ID</th>\n",
       "      <th>sentiment</th>\n",
       "    </tr>\n",
       "  </thead>\n",
       "  <tbody>\n",
       "    <tr>\n",
       "      <th>count</th>\n",
       "      <td>71982.000000</td>\n",
       "      <td>71982.000000</td>\n",
       "    </tr>\n",
       "    <tr>\n",
       "      <th>mean</th>\n",
       "      <td>6437.396307</td>\n",
       "      <td>1.377094</td>\n",
       "    </tr>\n",
       "    <tr>\n",
       "      <th>std</th>\n",
       "      <td>3743.198550</td>\n",
       "      <td>1.065362</td>\n",
       "    </tr>\n",
       "    <tr>\n",
       "      <th>min</th>\n",
       "      <td>1.000000</td>\n",
       "      <td>0.000000</td>\n",
       "    </tr>\n",
       "    <tr>\n",
       "      <th>25%</th>\n",
       "      <td>3199.000000</td>\n",
       "      <td>0.000000</td>\n",
       "    </tr>\n",
       "    <tr>\n",
       "      <th>50%</th>\n",
       "      <td>6434.000000</td>\n",
       "      <td>1.000000</td>\n",
       "    </tr>\n",
       "    <tr>\n",
       "      <th>75%</th>\n",
       "      <td>9607.000000</td>\n",
       "      <td>2.000000</td>\n",
       "    </tr>\n",
       "    <tr>\n",
       "      <th>max</th>\n",
       "      <td>13200.000000</td>\n",
       "      <td>3.000000</td>\n",
       "    </tr>\n",
       "  </tbody>\n",
       "</table>\n",
       "</div>"
      ],
      "text/plain": [
       "           Tweet ID     sentiment\n",
       "count  71982.000000  71982.000000\n",
       "mean    6437.396307      1.377094\n",
       "std     3743.198550      1.065362\n",
       "min        1.000000      0.000000\n",
       "25%     3199.000000      0.000000\n",
       "50%     6434.000000      1.000000\n",
       "75%     9607.000000      2.000000\n",
       "max    13200.000000      3.000000"
      ]
     },
     "execution_count": 10,
     "metadata": {},
     "output_type": "execute_result"
    }
   ],
   "source": [
    "df.describe()"
   ]
  },
  {
   "cell_type": "code",
   "execution_count": 11,
   "metadata": {},
   "outputs": [
    {
     "data": {
      "text/plain": [
       "[]"
      ]
     },
     "execution_count": 11,
     "metadata": {},
     "output_type": "execute_result"
    },
    {
     "data": {
      "image/png": "[encoded data removed]",
      "text/plain": [
       "<Figure size 800x500 with 1 Axes>"
      ]
     },
     "metadata": {},
     "output_type": "display_data"
    }
   ],
   "source": [
    "# Visualizint the amount of data per sentiment\n",
    "plt.figure(figsize=(8, 5))\n",
    "count_plot = sns.barplot(data=df, y='Tweet ID', x = 'sentiment', palette = 'hls')\n",
    "plt.ylabel('Record Count')\n",
    "plt.xlabel('Sentiment')\n",
    "# count_plot.set_yticks()\n",
    "count_plot.set_yticklabels([x for x in range(10000, len(df), 10000)])\n",
    "for container in count_plot.containers:\n",
    "    count_plot.bar_label(container, padding=8.0)\n",
    "plt.title('fig-1: label count plot')\n",
    "plt.plot()\n"
   ]
  },
  {
   "cell_type": "markdown",
   "metadata": {},
   "source": [
    "# Data preprocessing"
   ]
  },
  {
   "cell_type": "code",
   "execution_count": 12,
   "metadata": {},
   "outputs": [],
   "source": [
    "data = df.copy()\n",
    "data = data[['sentiment', 'Tweet content']]"
   ]
  },
  {
   "cell_type": "code",
   "execution_count": 13,
   "metadata": {},
   "outputs": [
    {
     "data": {
      "text/html": [
       "<div>\n",
       "<style scoped>\n",
       "    .dataframe tbody tr th:only-of-type {\n",
       "        vertical-align: middle;\n",
       "    }\n",
       "\n",
       "    .dataframe tbody tr th {\n",
       "        vertical-align: top;\n",
       "    }\n",
       "\n",
       "    .dataframe thead th {\n",
       "        text-align: right;\n",
       "    }\n",
       "</style>\n",
       "<table border=\"1\" class=\"dataframe\">\n",
       "  <thead>\n",
       "    <tr style=\"text-align: right;\">\n",
       "      <th></th>\n",
       "      <th>sentiment</th>\n",
       "      <th>Tweet content</th>\n",
       "    </tr>\n",
       "  </thead>\n",
       "  <tbody>\n",
       "    <tr>\n",
       "      <th>0</th>\n",
       "      <td>0</td>\n",
       "      <td>im getting on borderlands and i will murder yo...</td>\n",
       "    </tr>\n",
       "    <tr>\n",
       "      <th>1</th>\n",
       "      <td>0</td>\n",
       "      <td>i am coming to the borders and i will kill you...</td>\n",
       "    </tr>\n",
       "    <tr>\n",
       "      <th>2</th>\n",
       "      <td>0</td>\n",
       "      <td>im getting on borderlands and i will kill you ...</td>\n",
       "    </tr>\n",
       "    <tr>\n",
       "      <th>3</th>\n",
       "      <td>0</td>\n",
       "      <td>im coming on borderlands and i will murder you...</td>\n",
       "    </tr>\n",
       "    <tr>\n",
       "      <th>4</th>\n",
       "      <td>0</td>\n",
       "      <td>im getting on borderlands 2 and i will murder ...</td>\n",
       "    </tr>\n",
       "  </tbody>\n",
       "</table>\n",
       "</div>"
      ],
      "text/plain": [
       "   sentiment                                      Tweet content\n",
       "0          0  im getting on borderlands and i will murder yo...\n",
       "1          0  i am coming to the borders and i will kill you...\n",
       "2          0  im getting on borderlands and i will kill you ...\n",
       "3          0  im coming on borderlands and i will murder you...\n",
       "4          0  im getting on borderlands 2 and i will murder ..."
      ]
     },
     "execution_count": 13,
     "metadata": {},
     "output_type": "execute_result"
    }
   ],
   "source": [
    "# lower casing the data(text column)\n",
    "data['Tweet content'] = data['Tweet content'].str.lower()\n",
    "data.head()"
   ]
  },
  {
   "cell_type": "markdown",
   "metadata": {},
   "source": [
    "## Defining certain functions, to clean the data further"
   ]
  },
  {
   "cell_type": "code",
   "execution_count": 14,
   "metadata": {},
   "outputs": [
    {
     "name": "stdout",
     "output_type": "stream",
     "text": [
      "   sentiment                     Tweet content\n",
      "0          0    im getting borderlands murder \n",
      "1          0              coming borders kill \n",
      "2          0      im getting borderlands kill \n",
      "3          0     im coming borderlands murder \n",
      "4          0  im getting borderlands 2 murder \n",
      "   sentiment                       Tweet content\n",
      "0          0  [im, getting, borderlands, murder]\n",
      "1          0             [coming, borders, kill]\n",
      "2          0    [im, getting, borderlands, kill]\n",
      "3          0   [im, coming, borderlands, murder]\n",
      "4          0  [im, getting, borderlands, murder]\n"
     ]
    }
   ],
   "source": [
    "def clean_stopwords(text):\n",
    "    return \" \".join([word for word in word_tokenize(str(text)) if word not in STOPWORDS])\n",
    "\n",
    "def clean_punctuations(text):\n",
    "    return \"\".join([char for char in str(text) if char not in PUNCTUATIONS])\n",
    "        \n",
    "\n",
    "def cleaning_URLs(data):\n",
    "    return re.sub('((www.[^s]+)|(https?://[^s]+))',' ',data)\n",
    "\n",
    "def cleaning_numbers(data):\n",
    "    return re.sub('[0-9]+', '', data)\n",
    "\n",
    "data['Tweet content'] = data['Tweet content'].apply(lambda x: clean_stopwords(x))\n",
    "data['Tweet content'] = data['Tweet content'].apply(lambda x: clean_punctuations(x))\n",
    "data['Tweet content'] = data['Tweet content'].apply(lambda x: cleaning_URLs(x))\n",
    "data['Tweet content'] = data['Tweet content'].apply(lambda x: cleaning_numbers(x))\n",
    "data['Tweet content'] = data['Tweet content'].apply(lambda x: word_tokenize(x))\n",
    "\n",
    "print(data.head())"
   ]
  },
  {
   "cell_type": "code",
   "execution_count": null,
   "metadata": {},
   "outputs": [],
   "source": []
  }
 ],
 "metadata": {
  "kernelspec": {
   "display_name": "Python 3",
   "language": "python",
   "name": "python3"
  },
  "language_info": {
   "codemirror_mode": {
    "name": "ipython",
    "version": 3
   },
   "file_extension": ".py",
   "mimetype": "text/x-python",
   "name": "python",
   "nbconvert_exporter": "python",
   "pygments_lexer": "ipython3",
   "version": "3.11.8"
  }
 },
 "nbformat": 4,
 "nbformat_minor": 2
}
